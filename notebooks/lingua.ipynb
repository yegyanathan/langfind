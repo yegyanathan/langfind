{
 "cells": [
  {
   "cell_type": "code",
   "execution_count": 3,
   "metadata": {},
   "outputs": [],
   "source": [
    "from lingua import Language, LanguageDetectorBuilder"
   ]
  },
  {
   "cell_type": "code",
   "execution_count": 4,
   "metadata": {},
   "outputs": [
    {
     "data": {
      "text/plain": [
       "Language.ENGLISH"
      ]
     },
     "execution_count": 4,
     "metadata": {},
     "output_type": "execute_result"
    }
   ],
   "source": [
    "languages = [Language.ENGLISH, Language.FRENCH, Language.GERMAN, Language.SPANISH]\n",
    "detector = LanguageDetectorBuilder.from_languages(*languages).build()\n",
    "language = detector.detect_language_of(\"languages are awesome\")\n",
    "language"
   ]
  },
  {
   "cell_type": "code",
   "execution_count": 10,
   "metadata": {},
   "outputs": [
    {
     "data": {
      "text/plain": [
       "Language.MALAY"
      ]
     },
     "execution_count": 10,
     "metadata": {},
     "output_type": "execute_result"
    }
   ],
   "source": [
    "from utils import get_text_from_file\n",
    "\n",
    "text = get_text_from_file(\"../data/arabic_script_english.txt\")\n",
    "detector = LanguageDetectorBuilder.from_languages(*list(Language.all_spoken_ones())).build()\n",
    "language = detector.detect_language_of(text)\n",
    "language"
   ]
  },
  {
   "cell_type": "code",
   "execution_count": 11,
   "metadata": {},
   "outputs": [
    {
     "data": {
      "text/plain": [
       "Language.HINDI"
      ]
     },
     "execution_count": 11,
     "metadata": {},
     "output_type": "execute_result"
    }
   ],
   "source": [
    "text = get_text_from_file(\"../data/completely_hindi.txt\")\n",
    "detector = LanguageDetectorBuilder.from_languages(*list(Language.all_spoken_ones())).build()\n",
    "language = detector.detect_language_of(text)\n",
    "language"
   ]
  },
  {
   "cell_type": "code",
   "execution_count": 12,
   "metadata": {},
   "outputs": [
    {
     "data": {
      "text/plain": [
       "Language.CHINESE"
      ]
     },
     "execution_count": 12,
     "metadata": {},
     "output_type": "execute_result"
    }
   ],
   "source": [
    "text = get_text_from_file(\"../data/completely_chinese.txt\")\n",
    "detector = LanguageDetectorBuilder.from_languages(*list(Language.all_spoken_ones())).build()\n",
    "language = detector.detect_language_of(text)\n",
    "language"
   ]
  },
  {
   "cell_type": "code",
   "execution_count": 13,
   "metadata": {},
   "outputs": [
    {
     "data": {
      "text/plain": [
       "Language.FRENCH"
      ]
     },
     "execution_count": 13,
     "metadata": {},
     "output_type": "execute_result"
    }
   ],
   "source": [
    "text = get_text_from_file(\"../data/completely_french.txt\")\n",
    "detector = LanguageDetectorBuilder.from_languages(*list(Language.all_spoken_ones())).build()\n",
    "language = detector.detect_language_of(text)\n",
    "language"
   ]
  },
  {
   "cell_type": "code",
   "execution_count": 14,
   "metadata": {},
   "outputs": [
    {
     "name": "stdout",
     "output_type": "stream",
     "text": [
      "SPANISH: 1.00\n",
      "ENGLISH: 0.00\n",
      "TAGALOG: 0.00\n",
      "ESPERANTO: 0.00\n",
      "ITALIAN: 0.00\n",
      "CATALAN: 0.00\n",
      "FRENCH: 0.00\n",
      "PORTUGUESE: 0.00\n",
      "DUTCH: 0.00\n",
      "WELSH: 0.00\n",
      "YORUBA: 0.00\n",
      "ALBANIAN: 0.00\n",
      "SWEDISH: 0.00\n",
      "GERMAN: 0.00\n",
      "POLISH: 0.00\n",
      "BOKMAL: 0.00\n",
      "BASQUE: 0.00\n",
      "DANISH: 0.00\n",
      "NYNORSK: 0.00\n",
      "CZECH: 0.00\n",
      "CROATIAN: 0.00\n",
      "INDONESIAN: 0.00\n",
      "ROMANIAN: 0.00\n",
      "FINNISH: 0.00\n",
      "HUNGARIAN: 0.00\n",
      "SLOVAK: 0.00\n",
      "LITHUANIAN: 0.00\n",
      "BOSNIAN: 0.00\n",
      "SLOVENE: 0.00\n",
      "MALAY: 0.00\n",
      "TSONGA: 0.00\n",
      "SOTHO: 0.00\n",
      "AFRIKAANS: 0.00\n",
      "MAORI: 0.00\n",
      "VIETNAMESE: 0.00\n",
      "ZULU: 0.00\n",
      "XHOSA: 0.00\n",
      "TSWANA: 0.00\n",
      "TURKISH: 0.00\n",
      "ESTONIAN: 0.00\n",
      "SWAHILI: 0.00\n",
      "SHONA: 0.00\n",
      "ICELANDIC: 0.00\n",
      "LATVIAN: 0.00\n",
      "IRISH: 0.00\n",
      "AZERBAIJANI: 0.00\n",
      "SOMALI: 0.00\n",
      "GANDA: 0.00\n",
      "ARABIC: 0.00\n",
      "ARMENIAN: 0.00\n",
      "BELARUSIAN: 0.00\n",
      "BENGALI: 0.00\n",
      "BULGARIAN: 0.00\n",
      "CHINESE: 0.00\n",
      "GEORGIAN: 0.00\n",
      "GREEK: 0.00\n",
      "GUJARATI: 0.00\n",
      "HEBREW: 0.00\n",
      "HINDI: 0.00\n",
      "JAPANESE: 0.00\n",
      "KAZAKH: 0.00\n",
      "KOREAN: 0.00\n",
      "MACEDONIAN: 0.00\n",
      "MARATHI: 0.00\n",
      "MONGOLIAN: 0.00\n",
      "PERSIAN: 0.00\n",
      "PUNJABI: 0.00\n",
      "RUSSIAN: 0.00\n",
      "SERBIAN: 0.00\n",
      "TAMIL: 0.00\n",
      "TELUGU: 0.00\n",
      "THAI: 0.00\n",
      "UKRAINIAN: 0.00\n",
      "URDU: 0.00\n"
     ]
    }
   ],
   "source": [
    "text = get_text_from_file(\"../data/remittance_receipt_sp_chi_en.txt\")\n",
    "confidence_values = detector.compute_language_confidence_values(text)\n",
    "for confidence in confidence_values:\n",
    "    print(f\"{confidence.language.name}: {confidence.value:.2f}\")"
   ]
  },
  {
   "cell_type": "code",
   "execution_count": 15,
   "metadata": {},
   "outputs": [
    {
     "name": "stdout",
     "output_type": "stream",
     "text": [
      "GERMAN: 1.00\n",
      "AFRIKAANS: 0.00\n",
      "ALBANIAN: 0.00\n",
      "ARABIC: 0.00\n",
      "ARMENIAN: 0.00\n",
      "AZERBAIJANI: 0.00\n",
      "BASQUE: 0.00\n",
      "BELARUSIAN: 0.00\n",
      "BENGALI: 0.00\n",
      "BOKMAL: 0.00\n",
      "BOSNIAN: 0.00\n",
      "BULGARIAN: 0.00\n",
      "CATALAN: 0.00\n",
      "CHINESE: 0.00\n",
      "CROATIAN: 0.00\n",
      "CZECH: 0.00\n",
      "DANISH: 0.00\n",
      "DUTCH: 0.00\n",
      "ENGLISH: 0.00\n",
      "ESPERANTO: 0.00\n",
      "ESTONIAN: 0.00\n",
      "FINNISH: 0.00\n",
      "FRENCH: 0.00\n",
      "GANDA: 0.00\n",
      "GEORGIAN: 0.00\n",
      "GREEK: 0.00\n",
      "GUJARATI: 0.00\n",
      "HEBREW: 0.00\n",
      "HINDI: 0.00\n",
      "HUNGARIAN: 0.00\n",
      "ICELANDIC: 0.00\n",
      "INDONESIAN: 0.00\n",
      "IRISH: 0.00\n",
      "ITALIAN: 0.00\n",
      "JAPANESE: 0.00\n",
      "KAZAKH: 0.00\n",
      "KOREAN: 0.00\n",
      "LATVIAN: 0.00\n",
      "LITHUANIAN: 0.00\n",
      "MACEDONIAN: 0.00\n",
      "MALAY: 0.00\n",
      "MAORI: 0.00\n",
      "MARATHI: 0.00\n",
      "MONGOLIAN: 0.00\n",
      "NYNORSK: 0.00\n",
      "PERSIAN: 0.00\n",
      "POLISH: 0.00\n",
      "PORTUGUESE: 0.00\n",
      "PUNJABI: 0.00\n",
      "ROMANIAN: 0.00\n",
      "RUSSIAN: 0.00\n",
      "SERBIAN: 0.00\n",
      "SHONA: 0.00\n",
      "SLOVAK: 0.00\n",
      "SLOVENE: 0.00\n",
      "SOMALI: 0.00\n",
      "SOTHO: 0.00\n",
      "SPANISH: 0.00\n",
      "SWAHILI: 0.00\n",
      "SWEDISH: 0.00\n",
      "TAGALOG: 0.00\n",
      "TAMIL: 0.00\n",
      "TELUGU: 0.00\n",
      "THAI: 0.00\n",
      "TSONGA: 0.00\n",
      "TSWANA: 0.00\n",
      "TURKISH: 0.00\n",
      "UKRAINIAN: 0.00\n",
      "URDU: 0.00\n",
      "VIETNAMESE: 0.00\n",
      "WELSH: 0.00\n",
      "XHOSA: 0.00\n",
      "YORUBA: 0.00\n",
      "ZULU: 0.00\n"
     ]
    }
   ],
   "source": [
    "text = get_text_from_file(\"../data/ger_spa_fr_rus.txt\")\n",
    "confidence_values = detector.compute_language_confidence_values(text)\n",
    "for confidence in confidence_values:\n",
    "    print(f\"{confidence.language.name}: {confidence.value:.2f}\")"
   ]
  },
  {
   "cell_type": "code",
   "execution_count": 16,
   "metadata": {},
   "outputs": [
    {
     "name": "stdout",
     "output_type": "stream",
     "text": [
      "MALAY: 0.75\n",
      "SOMALI: 0.15\n",
      "AZERBAIJANI: 0.11\n",
      "YORUBA: 0.00\n",
      "SOTHO: 0.00\n",
      "INDONESIAN: 0.00\n",
      "TSWANA: 0.00\n",
      "TURKISH: 0.00\n",
      "TSONGA: 0.00\n",
      "FRENCH: 0.00\n",
      "ENGLISH: 0.00\n",
      "SPANISH: 0.00\n",
      "ALBANIAN: 0.00\n",
      "ESPERANTO: 0.00\n",
      "SHONA: 0.00\n",
      "ITALIAN: 0.00\n",
      "TAGALOG: 0.00\n",
      "XHOSA: 0.00\n",
      "ROMANIAN: 0.00\n",
      "BOSNIAN: 0.00\n",
      "SWEDISH: 0.00\n",
      "SWAHILI: 0.00\n",
      "DUTCH: 0.00\n",
      "WELSH: 0.00\n",
      "BOKMAL: 0.00\n",
      "GERMAN: 0.00\n",
      "POLISH: 0.00\n",
      "ESTONIAN: 0.00\n",
      "AFRIKAANS: 0.00\n",
      "GANDA: 0.00\n",
      "CROATIAN: 0.00\n",
      "ZULU: 0.00\n",
      "BASQUE: 0.00\n",
      "HUNGARIAN: 0.00\n",
      "DANISH: 0.00\n",
      "CZECH: 0.00\n",
      "MAORI: 0.00\n",
      "ICELANDIC: 0.00\n",
      "CATALAN: 0.00\n",
      "SLOVENE: 0.00\n",
      "VIETNAMESE: 0.00\n",
      "SLOVAK: 0.00\n",
      "PORTUGUESE: 0.00\n",
      "NYNORSK: 0.00\n",
      "IRISH: 0.00\n",
      "LITHUANIAN: 0.00\n",
      "FINNISH: 0.00\n",
      "LATVIAN: 0.00\n",
      "ARABIC: 0.00\n",
      "ARMENIAN: 0.00\n",
      "BELARUSIAN: 0.00\n",
      "BENGALI: 0.00\n",
      "BULGARIAN: 0.00\n",
      "CHINESE: 0.00\n",
      "GEORGIAN: 0.00\n",
      "GREEK: 0.00\n",
      "GUJARATI: 0.00\n",
      "HEBREW: 0.00\n",
      "HINDI: 0.00\n",
      "JAPANESE: 0.00\n",
      "KAZAKH: 0.00\n",
      "KOREAN: 0.00\n",
      "MACEDONIAN: 0.00\n",
      "MARATHI: 0.00\n",
      "MONGOLIAN: 0.00\n",
      "PERSIAN: 0.00\n",
      "PUNJABI: 0.00\n",
      "RUSSIAN: 0.00\n",
      "SERBIAN: 0.00\n",
      "TAMIL: 0.00\n",
      "TELUGU: 0.00\n",
      "THAI: 0.00\n",
      "UKRAINIAN: 0.00\n",
      "URDU: 0.00\n"
     ]
    }
   ],
   "source": [
    "text = get_text_from_file(\"../data/arabic_script_english.txt\")\n",
    "confidence_values = detector.compute_language_confidence_values(text)\n",
    "for confidence in confidence_values:\n",
    "    print(f\"{confidence.language.name}: {confidence.value:.2f}\")"
   ]
  },
  {
   "cell_type": "code",
   "execution_count": null,
   "metadata": {},
   "outputs": [],
   "source": []
  }
 ],
 "metadata": {
  "kernelspec": {
   "display_name": "base",
   "language": "python",
   "name": "python3"
  },
  "language_info": {
   "codemirror_mode": {
    "name": "ipython",
    "version": 3
   },
   "file_extension": ".py",
   "mimetype": "text/x-python",
   "name": "python",
   "nbconvert_exporter": "python",
   "pygments_lexer": "ipython3",
   "version": "3.11.5"
  }
 },
 "nbformat": 4,
 "nbformat_minor": 2
}
