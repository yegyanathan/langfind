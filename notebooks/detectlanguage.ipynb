{
 "cells": [
  {
   "cell_type": "code",
   "execution_count": 3,
   "metadata": {},
   "outputs": [],
   "source": [
    "import detectlanguage\n",
    "from utils import get_text_from_file\n",
    "\n",
    "detectlanguage.configuration.api_key = \"d612f4b0758723b8045c0af36dcae293\"\n",
    "\n",
    "# Enable secure mode (SSL) if you are passing sensitive data\n",
    "# detectlanguage.configuration.secure = True"
   ]
  },
  {
   "cell_type": "code",
   "execution_count": 4,
   "metadata": {},
   "outputs": [
    {
     "data": {
      "text/plain": [
       "[{'language': 'de', 'isReliable': True, 'confidence': 10.522},\n",
       " {'language': 'da', 'isReliable': False, 'confidence': 6.178},\n",
       " {'language': 'es', 'isReliable': False, 'confidence': 5.258}]"
      ]
     },
     "execution_count": 4,
     "metadata": {},
     "output_type": "execute_result"
    }
   ],
   "source": [
    "text = get_text_from_file(\"../data/ger_spa_fr_rus.txt\")\n",
    "detectlanguage.detect(text)"
   ]
  },
  {
   "cell_type": "code",
   "execution_count": 5,
   "metadata": {},
   "outputs": [
    {
     "data": {
      "text/plain": [
       "[{'language': 'fa', 'isReliable': True, 'confidence': 4.571},\n",
       " {'language': 'ar', 'isReliable': False, 'confidence': 6}]"
      ]
     },
     "execution_count": 5,
     "metadata": {},
     "output_type": "execute_result"
    }
   ],
   "source": [
    "text = get_text_from_file(\"../data/arabic_farsi_urdu.txt\")\n",
    "detectlanguage.detect(text)"
   ]
  },
  {
   "cell_type": "code",
   "execution_count": 6,
   "metadata": {},
   "outputs": [
    {
     "data": {
      "text/plain": [
       "[{'language': 'hi', 'isReliable': True, 'confidence': 7.86}]"
      ]
     },
     "execution_count": 6,
     "metadata": {},
     "output_type": "execute_result"
    }
   ],
   "source": [
    "text = get_text_from_file(\"../data/completely_hindi.txt\")\n",
    "detectlanguage.detect(text)"
   ]
  },
  {
   "cell_type": "code",
   "execution_count": 7,
   "metadata": {},
   "outputs": [
    {
     "data": {
      "text/plain": [
       "[{'language': 'zh-Hant', 'isReliable': True, 'confidence': 18.91}]"
      ]
     },
     "execution_count": 7,
     "metadata": {},
     "output_type": "execute_result"
    }
   ],
   "source": [
    "text = get_text_from_file(\"../data/completely_chinese.txt\")\n",
    "detectlanguage.detect(text)"
   ]
  },
  {
   "cell_type": "code",
   "execution_count": null,
   "metadata": {},
   "outputs": [],
   "source": []
  }
 ],
 "metadata": {
  "kernelspec": {
   "display_name": "base",
   "language": "python",
   "name": "python3"
  },
  "language_info": {
   "codemirror_mode": {
    "name": "ipython",
    "version": 3
   },
   "file_extension": ".py",
   "mimetype": "text/x-python",
   "name": "python",
   "nbconvert_exporter": "python",
   "pygments_lexer": "ipython3",
   "version": "3.11.5"
  }
 },
 "nbformat": 4,
 "nbformat_minor": 2
}
