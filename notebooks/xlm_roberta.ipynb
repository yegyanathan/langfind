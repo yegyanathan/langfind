{
 "cells": [
  {
   "cell_type": "code",
   "execution_count": 1,
   "metadata": {},
   "outputs": [
    {
     "name": "stderr",
     "output_type": "stream",
     "text": [
      "Device set to use mps:0\n"
     ]
    },
    {
     "data": {
      "text/plain": [
       "[{'label': 'hi', 'score': 0.33663713932037354},\n",
       " {'label': 'ur', 'score': 0.09858942031860352},\n",
       " {'label': 'ru', 'score': 0.07430344820022583}]"
      ]
     },
     "execution_count": 1,
     "metadata": {},
     "output_type": "execute_result"
    }
   ],
   "source": [
    "from transformers import pipeline\n",
    "from utils import get_text_from_file\n",
    "\n",
    "\n",
    "text = get_text_from_file(\"../data/arabic_script_english.txt\")\n",
    "pipe = pipeline(\"text-classification\", model=\"papluca/xlm-roberta-base-language-detection\")\n",
    "pipe(text, top_k=3, truncation=True)"
   ]
  },
  {
   "cell_type": "code",
   "execution_count": 2,
   "metadata": {},
   "outputs": [
    {
     "data": {
      "text/plain": [
       "[{'label': 'es', 'score': 0.9897584915161133},\n",
       " {'label': 'pt', 'score': 0.0023331916891038418},\n",
       " {'label': 'ar', 'score': 0.0006756128277629614}]"
      ]
     },
     "execution_count": 2,
     "metadata": {},
     "output_type": "execute_result"
    }
   ],
   "source": [
    "text = get_text_from_file(\"../data/completely_spanish.txt\")\n",
    "pipe(text, top_k=3, truncation=True)"
   ]
  },
  {
   "cell_type": "code",
   "execution_count": 3,
   "metadata": {},
   "outputs": [
    {
     "data": {
      "text/plain": [
       "[{'label': 'fr', 'score': 0.9935120940208435},\n",
       " {'label': 'ru', 'score': 0.0004939466016367078},\n",
       " {'label': 'ja', 'score': 0.00048483925638720393}]"
      ]
     },
     "execution_count": 3,
     "metadata": {},
     "output_type": "execute_result"
    }
   ],
   "source": [
    "text = get_text_from_file(\"../data/completely_french.txt\")\n",
    "pipe(text, top_k=3, truncation=True)"
   ]
  },
  {
   "cell_type": "code",
   "execution_count": 4,
   "metadata": {},
   "outputs": [
    {
     "data": {
      "text/plain": [
       "[{'label': 'es', 'score': 0.9897584915161133},\n",
       " {'label': 'pt', 'score': 0.0023331916891038418},\n",
       " {'label': 'ar', 'score': 0.0006756128277629614}]"
      ]
     },
     "execution_count": 4,
     "metadata": {},
     "output_type": "execute_result"
    }
   ],
   "source": [
    "text = get_text_from_file(\"../data/completely_spanish.txt\")\n",
    "pipe(text, top_k=3, truncation=True)"
   ]
  },
  {
   "cell_type": "code",
   "execution_count": 5,
   "metadata": {},
   "outputs": [
    {
     "data": {
      "text/plain": [
       "[{'label': 'zh', 'score': 0.7589492797851562},\n",
       " {'label': 'ar', 'score': 0.05663697049021721},\n",
       " {'label': 'th', 'score': 0.05431436374783516}]"
      ]
     },
     "execution_count": 5,
     "metadata": {},
     "output_type": "execute_result"
    }
   ],
   "source": [
    "text = get_text_from_file(\"../data/completely_chinese.txt\")\n",
    "pipe(text, top_k=3, truncation=True)"
   ]
  },
  {
   "cell_type": "code",
   "execution_count": 6,
   "metadata": {},
   "outputs": [
    {
     "data": {
      "text/plain": [
       "[{'label': 'ar', 'score': 0.5426490902900696},\n",
       " {'label': 'ur', 'score': 0.4228925108909607},\n",
       " {'label': 'hi', 'score': 0.0034616366028785706}]"
      ]
     },
     "execution_count": 6,
     "metadata": {},
     "output_type": "execute_result"
    }
   ],
   "source": [
    "text = get_text_from_file(\"../data/arabic_farsi_urdu.txt\")\n",
    "pipe(text, top_k=3, truncation=True)"
   ]
  },
  {
   "cell_type": "code",
   "execution_count": null,
   "metadata": {},
   "outputs": [],
   "source": []
  }
 ],
 "metadata": {
  "kernelspec": {
   "display_name": "base",
   "language": "python",
   "name": "python3"
  },
  "language_info": {
   "codemirror_mode": {
    "name": "ipython",
    "version": 3
   },
   "file_extension": ".py",
   "mimetype": "text/x-python",
   "name": "python",
   "nbconvert_exporter": "python",
   "pygments_lexer": "ipython3",
   "version": "3.11.5"
  }
 },
 "nbformat": 4,
 "nbformat_minor": 2
}
