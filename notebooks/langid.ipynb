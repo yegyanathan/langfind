{
 "cells": [
  {
   "cell_type": "code",
   "execution_count": 1,
   "metadata": {},
   "outputs": [
    {
     "data": {
      "text/plain": [
       "('es', -594.7420358657837)"
      ]
     },
     "execution_count": 1,
     "metadata": {},
     "output_type": "execute_result"
    }
   ],
   "source": [
    "from utils import get_text_from_file\n",
    "import langid\n",
    "\n",
    "text = get_text_from_file(\"../data/completely_spanish.txt\")\n",
    "langid.classify(text)"
   ]
  },
  {
   "cell_type": "code",
   "execution_count": 3,
   "metadata": {},
   "outputs": [
    {
     "data": {
      "text/plain": [
       "[('es', -594.7420358657837),\n",
       " ('gl', -612.703155040741),\n",
       " ('an', -664.6683604717255),\n",
       " ('ca', -681.8932666778564)]"
      ]
     },
     "execution_count": 3,
     "metadata": {},
     "output_type": "execute_result"
    }
   ],
   "source": [
    "lang, prob = langid.classify(text)\n",
    "langid.rank(text)[:4]"
   ]
  },
  {
   "cell_type": "code",
   "execution_count": 4,
   "metadata": {},
   "outputs": [
    {
     "data": {
      "text/plain": [
       "[('hi', -3287.791578769684),\n",
       " ('mr', -3370.808104991913),\n",
       " ('ne', -3399.561794757843),\n",
       " ('ja', -6376.040870189667)]"
      ]
     },
     "execution_count": 4,
     "metadata": {},
     "output_type": "execute_result"
    }
   ],
   "source": [
    "text = get_text_from_file(\"../data/completely_hindi.txt\")\n",
    "lang, prob = langid.classify(text)\n",
    "langid.rank(text)[:4]"
   ]
  },
  {
   "cell_type": "code",
   "execution_count": 5,
   "metadata": {},
   "outputs": [
    {
     "data": {
      "text/plain": [
       "[('fr', -2193.639302253723),\n",
       " ('oc', -2684.986672401428),\n",
       " ('lb', -2838.4966807365417),\n",
       " ('an', -2907.1545259952545)]"
      ]
     },
     "execution_count": 5,
     "metadata": {},
     "output_type": "execute_result"
    }
   ],
   "source": [
    "text = get_text_from_file(\"../data/completely_french.txt\")\n",
    "lang, prob = langid.classify(text)\n",
    "langid.rank(text)[:4]"
   ]
  },
  {
   "cell_type": "code",
   "execution_count": 6,
   "metadata": {},
   "outputs": [
    {
     "data": {
      "text/plain": [
       "[('la', -1835.0489411354065),\n",
       " ('an', -1860.1308205127716),\n",
       " ('qu', -1867.7967524528503),\n",
       " ('zh', -1935.7555284500122)]"
      ]
     },
     "execution_count": 6,
     "metadata": {},
     "output_type": "execute_result"
    }
   ],
   "source": [
    "text = get_text_from_file(\"../data/remittance_receipt_sp_chi_en.txt\")\n",
    "lang, prob = langid.classify(text)\n",
    "langid.rank(text)[:4]"
   ]
  },
  {
   "cell_type": "code",
   "execution_count": 7,
   "metadata": {},
   "outputs": [
    {
     "data": {
      "text/plain": [
       "[('zh', -844.0852494239807),\n",
       " ('ja', -979.2619762420654),\n",
       " ('qu', -1231.8514394760132),\n",
       " ('ko', -1243.3628368377686)]"
      ]
     },
     "execution_count": 7,
     "metadata": {},
     "output_type": "execute_result"
    }
   ],
   "source": [
    "text = get_text_from_file(\"../data/completely_chinese.txt\")\n",
    "lang, prob = langid.classify(text)\n",
    "langid.rank(text)[:4]"
   ]
  },
  {
   "cell_type": "code",
   "execution_count": 9,
   "metadata": {},
   "outputs": [
    {
     "data": {
      "text/plain": [
       "[('es', -1676.882122516632),\n",
       " ('an', -1760.1283919811249),\n",
       " ('gl', -1819.7498831748962),\n",
       " ('ca', -1844.1961650848389)]"
      ]
     },
     "execution_count": 9,
     "metadata": {},
     "output_type": "execute_result"
    }
   ],
   "source": [
    "text = get_text_from_file(\"../data/with_formulas.txt\")\n",
    "lang, prob = langid.classify(text)\n",
    "langid.rank(text)[:4]"
   ]
  },
  {
   "cell_type": "code",
   "execution_count": 10,
   "metadata": {},
   "outputs": [
    {
     "data": {
      "text/plain": [
       "[('fa', -3433.3070662021637),\n",
       " ('ur', -3511.4884717464447),\n",
       " ('ar', -3695.906497478485),\n",
       " ('ps', -3965.374536037445)]"
      ]
     },
     "execution_count": 10,
     "metadata": {},
     "output_type": "execute_result"
    }
   ],
   "source": [
    "text = get_text_from_file(\"../data/arabic_farsi_urdu.txt\")\n",
    "lang, prob = langid.classify(text)\n",
    "langid.rank(text)[:4]"
   ]
  },
  {
   "cell_type": "code",
   "execution_count": 11,
   "metadata": {},
   "outputs": [
    {
     "data": {
      "text/plain": [
       "[('ky', -13020.845885634422),\n",
       " ('qu', -13872.768201351166),\n",
       " ('la', -13946.173018455505),\n",
       " ('ru', -14234.821083307266)]"
      ]
     },
     "execution_count": 11,
     "metadata": {},
     "output_type": "execute_result"
    }
   ],
   "source": [
    "text = get_text_from_file(\"../data/ger_spa_fr_rus.txt\")\n",
    "lang, prob = langid.classify(text)\n",
    "langid.rank(text)[:4]"
   ]
  },
  {
   "cell_type": "code",
   "execution_count": 12,
   "metadata": {},
   "outputs": [
    {
     "data": {
      "text/plain": [
       "[('rw', -199.67494440078735),\n",
       " ('tl', -203.87832188606262),\n",
       " ('zu', -204.23319256305695),\n",
       " ('ms', -205.11746549606323)]"
      ]
     },
     "execution_count": 12,
     "metadata": {},
     "output_type": "execute_result"
    }
   ],
   "source": [
    "text = get_text_from_file(\"../data/arabic_script_english.txt\")\n",
    "lang, prob = langid.classify(text)\n",
    "langid.rank(text)[:4]"
   ]
  },
  {
   "cell_type": "code",
   "execution_count": null,
   "metadata": {},
   "outputs": [],
   "source": []
  }
 ],
 "metadata": {
  "kernelspec": {
   "display_name": "base",
   "language": "python",
   "name": "python3"
  },
  "language_info": {
   "codemirror_mode": {
    "name": "ipython",
    "version": 3
   },
   "file_extension": ".py",
   "mimetype": "text/x-python",
   "name": "python",
   "nbconvert_exporter": "python",
   "pygments_lexer": "ipython3",
   "version": "3.11.5"
  }
 },
 "nbformat": 4,
 "nbformat_minor": 2
}
